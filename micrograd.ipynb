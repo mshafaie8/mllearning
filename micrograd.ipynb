{
  "nbformat": 4,
  "nbformat_minor": 0,
  "metadata": {
    "colab": {
      "provenance": []
    },
    "kernelspec": {
      "name": "python3",
      "display_name": "Python 3"
    },
    "language_info": {
      "name": "python"
    }
  },
  "cells": [
    {
      "cell_type": "code",
      "execution_count": null,
      "metadata": {
        "id": "hxucSj0YwUgL"
      },
      "outputs": [],
      "source": [
        "import math\n",
        "import numpy as np\n",
        "import matplotlib.pyplot as plt\n",
        "%matplotlib inline"
      ]
    },
    {
      "cell_type": "code",
      "source": [
        "from graphviz import Digraph\n",
        "\n",
        "def trace(root):\n",
        "  # builds a set of all nodes and edges in a graph\n",
        "  nodes, edges = set(), set()\n",
        "  def build(v):\n",
        "    if v not in nodes:\n",
        "      nodes.add(v)\n",
        "      for child in v._prev:\n",
        "        edges.add((child, v))\n",
        "        build(child)\n",
        "  build(root)\n",
        "  return nodes, edges\n",
        "\n",
        "def draw_dot(root):\n",
        "  dot = Digraph(format='svg', graph_attr={'rankdir': 'LR'}) # LR = left to right\n",
        "\n",
        "  nodes, edges = trace(root)\n",
        "  for n in nodes:\n",
        "    uid = str(id(n))\n",
        "    # for any value in the graph, create a rectangular ('record') node for it\n",
        "    dot.node(name = uid, label = \"{ %s | data %.4f | grad %.4f }\" % (n.label, n.data, n.grad), shape='record')\n",
        "    if n._op:\n",
        "      # if this value is a result of some operation, create an op node for it\n",
        "      dot.node(name = uid + n._op, label = n._op)\n",
        "      # and connect this node to it\n",
        "      dot.edge(uid + n._op, uid)\n",
        "\n",
        "  for n1, n2 in edges:\n",
        "    # connect n1 to the op node of n2\n",
        "    dot.edge(str(id(n1)), str(id(n2)) + n2._op)\n",
        "\n",
        "  return dot"
      ],
      "metadata": {
        "id": "0QJw0p6DwVVC"
      },
      "execution_count": null,
      "outputs": []
    },
    {
      "cell_type": "code",
      "source": [
        "class Value:\n",
        "    def __init__(self, data, _children=(), _op='', label=''):\n",
        "        self.label = label\n",
        "        self.data = data\n",
        "        self.grad = 0.0\n",
        "        self._backward = lambda: None\n",
        "        self._prev = set(_children)\n",
        "        self._op = _op\n",
        "\n",
        "    def __repr__(self):\n",
        "        return f\"Value(data={self.data})\"\n",
        "\n",
        "    def __rmul__(self, other):\n",
        "        return self * other\n",
        "\n",
        "    def __radd__(self, other):\n",
        "        return self + other\n",
        "\n",
        "    def __sub__(self, other):\n",
        "        return self + (-other)\n",
        "\n",
        "    def __neg__(self):\n",
        "        return self * -1\n",
        "\n",
        "    def __add__(self, other):\n",
        "\n",
        "        other = other if isinstance(other, Value) else Value(other)\n",
        "\n",
        "        out = Value(self.data + other.data, (self, other), '+')\n",
        "\n",
        "        def _backward():\n",
        "            self.grad += 1.0 * out.grad\n",
        "            other.grad += 1.0 * out.grad\n",
        "        out._backward = _backward\n",
        "\n",
        "        return out\n",
        "\n",
        "    def __mul__(self, other):\n",
        "\n",
        "        other = other if isinstance(other, Value) else Value(other)\n",
        "\n",
        "        out = Value(self.data * other.data, (self, other), '*')\n",
        "\n",
        "        def _backward():\n",
        "            self.grad += other.data * out.grad\n",
        "            other.grad += self.data * out.grad\n",
        "        out._backward = _backward\n",
        "\n",
        "        return out\n",
        "\n",
        "    def tanh(self):\n",
        "        x = self.data\n",
        "        t = (math.exp(2*x) - 1)/(math.exp(2*x) + 1)\n",
        "        out = Value(t, (self, ), 'tanh')\n",
        "\n",
        "        def _backward():\n",
        "            self.grad += (1 - t**2) * out.grad\n",
        "        out._backward = _backward\n",
        "\n",
        "        return out\n",
        "\n",
        "    def exp(self):\n",
        "        x = self.data\n",
        "        t = math.exp(x)\n",
        "        out = Value(t, (self, ), 'exp')\n",
        "\n",
        "        def _backward():\n",
        "            self.grad += t * out.grad\n",
        "        out._backward = _backward\n",
        "\n",
        "        return out\n",
        "\n",
        "    def __truediv__(self, other):\n",
        "        return self * other**-1\n",
        "\n",
        "    def __pow__(self, other):\n",
        "        assert isinstance(other, (int, float))\n",
        "        out = Value(self.data ** other, (self, ), f'pow({other})')\n",
        "\n",
        "        def _backward():\n",
        "            self.grad += (other * self.data ** (other -1)) * out.grad\n",
        "        out._backward = _backward\n",
        "\n",
        "        return out\n",
        "\n",
        "    def backward(self):\n",
        "\n",
        "        list_ = []\n",
        "        visited = set()\n",
        "\n",
        "        def build_topo(node):\n",
        "          if node not in visited:\n",
        "            visited.add(node)\n",
        "            for child in node._prev:\n",
        "              build_topo(child)\n",
        "            list_.append(node)\n",
        "\n",
        "        build_topo(self)\n",
        "\n",
        "        self.grad = 1.0\n",
        "        for node in reversed(list_):\n",
        "          node._backward()\n",
        "\n"
      ],
      "metadata": {
        "id": "Zjn6PY9OwW7e"
      },
      "execution_count": null,
      "outputs": []
    },
    {
      "cell_type": "code",
      "source": [
        "# inputs x1,x2\n",
        "x1 = Value(2.0, label='x1')\n",
        "x2 = Value(0.0, label='x2')\n",
        "# weights w1,w2\n",
        "w1 = Value(-3.0, label='w1')\n",
        "w2 = Value(1.0, label='w2')\n",
        "# bias of the neuron\n",
        "b = Value(6.8813735870195432, label='b')\n",
        "# x1*w1 + x2*w2 + b\n",
        "x1w1 = x1*w1; x1w1.label = 'x1*w1'\n",
        "x2w2 = x2*w2; x2w2.label = 'x2*w2'\n",
        "x1w1x2w2 = x1w1 + x2w2; x1w1x2w2.label = 'x1*w1 + x2*w2'\n",
        "n = x1w1x2w2 + b; n.label = 'n'\n",
        "o = n.tanh(); o.label = 'o'"
      ],
      "metadata": {
        "id": "gypPNlREwdkv"
      },
      "execution_count": null,
      "outputs": []
    },
    {
      "cell_type": "code",
      "source": [
        "# visualize the gradients and forward\n",
        "o.backward()\n",
        "draw_dot(o)"
      ],
      "metadata": {
        "id": "JmJJEXOI0QRS",
        "colab": {
          "base_uri": "https://localhost:8080/",
          "height": 321
        },
        "outputId": "d24758d4-dfd1-4183-de41-090020a9209f"
      },
      "execution_count": null,
      "outputs": [
        {
          "output_type": "execute_result",
          "data": {
            "image/svg+xml": "<?xml version=\"1.0\" encoding=\"UTF-8\" standalone=\"no\"?>\n<!DOCTYPE svg PUBLIC \"-//W3C//DTD SVG 1.1//EN\"\n \"http://www.w3.org/Graphics/SVG/1.1/DTD/svg11.dtd\">\n<!-- Generated by graphviz version 2.43.0 (0)\n -->\n<!-- Title: %3 Pages: 1 -->\n<svg width=\"1575pt\" height=\"210pt\"\n viewBox=\"0.00 0.00 1575.00 210.00\" xmlns=\"http://www.w3.org/2000/svg\" xmlns:xlink=\"http://www.w3.org/1999/xlink\">\n<g id=\"graph0\" class=\"graph\" transform=\"scale(1 1) rotate(0) translate(4 206)\">\n<title>%3</title>\n<polygon fill=\"white\" stroke=\"transparent\" points=\"-4,4 -4,-206 1571,-206 1571,4 -4,4\"/>\n<!-- 136550657543248 -->\n<g id=\"node1\" class=\"node\">\n<title>136550657543248</title>\n<polygon fill=\"none\" stroke=\"black\" points=\"4,-165.5 4,-201.5 196,-201.5 196,-165.5 4,-165.5\"/>\n<text text-anchor=\"middle\" x=\"19\" y=\"-179.8\" font-family=\"Times,serif\" font-size=\"14.00\">x2</text>\n<polyline fill=\"none\" stroke=\"black\" points=\"34,-165.5 34,-201.5 \"/>\n<text text-anchor=\"middle\" x=\"74\" y=\"-179.8\" font-family=\"Times,serif\" font-size=\"14.00\">data 0.0000</text>\n<polyline fill=\"none\" stroke=\"black\" points=\"114,-165.5 114,-201.5 \"/>\n<text text-anchor=\"middle\" x=\"155\" y=\"-179.8\" font-family=\"Times,serif\" font-size=\"14.00\">grad 0.5000</text>\n</g>\n<!-- 136550664878224* -->\n<g id=\"node7\" class=\"node\">\n<title>136550664878224*</title>\n<ellipse fill=\"none\" stroke=\"black\" cx=\"263\" cy=\"-128.5\" rx=\"27\" ry=\"18\"/>\n<text text-anchor=\"middle\" x=\"263\" y=\"-124.8\" font-family=\"Times,serif\" font-size=\"14.00\">*</text>\n</g>\n<!-- 136550657543248&#45;&gt;136550664878224* -->\n<g id=\"edge7\" class=\"edge\">\n<title>136550657543248&#45;&gt;136550664878224*</title>\n<path fill=\"none\" stroke=\"black\" d=\"M172.53,-165.44C181.84,-162.67 191.2,-159.67 200,-156.5 210.53,-152.71 221.75,-147.9 231.72,-143.33\"/>\n<polygon fill=\"black\" stroke=\"black\" points=\"233.25,-146.48 240.82,-139.07 230.28,-140.14 233.25,-146.48\"/>\n</g>\n<!-- 136550657548368 -->\n<g id=\"node2\" class=\"node\">\n<title>136550657548368</title>\n<polygon fill=\"none\" stroke=\"black\" points=\"2,-55.5 2,-91.5 198,-91.5 198,-55.5 2,-55.5\"/>\n<text text-anchor=\"middle\" x=\"17\" y=\"-69.8\" font-family=\"Times,serif\" font-size=\"14.00\">x1</text>\n<polyline fill=\"none\" stroke=\"black\" points=\"32,-55.5 32,-91.5 \"/>\n<text text-anchor=\"middle\" x=\"72\" y=\"-69.8\" font-family=\"Times,serif\" font-size=\"14.00\">data 2.0000</text>\n<polyline fill=\"none\" stroke=\"black\" points=\"112,-55.5 112,-91.5 \"/>\n<text text-anchor=\"middle\" x=\"155\" y=\"-69.8\" font-family=\"Times,serif\" font-size=\"14.00\">grad &#45;1.5000</text>\n</g>\n<!-- 136550663723472* -->\n<g id=\"node15\" class=\"node\">\n<title>136550663723472*</title>\n<ellipse fill=\"none\" stroke=\"black\" cx=\"263\" cy=\"-73.5\" rx=\"27\" ry=\"18\"/>\n<text text-anchor=\"middle\" x=\"263\" y=\"-69.8\" font-family=\"Times,serif\" font-size=\"14.00\">*</text>\n</g>\n<!-- 136550657548368&#45;&gt;136550663723472* -->\n<g id=\"edge10\" class=\"edge\">\n<title>136550657548368&#45;&gt;136550663723472*</title>\n<path fill=\"none\" stroke=\"black\" d=\"M198.37,-73.5C208.05,-73.5 217.4,-73.5 225.8,-73.5\"/>\n<polygon fill=\"black\" stroke=\"black\" points=\"225.91,-77 235.91,-73.5 225.91,-70 225.91,-77\"/>\n</g>\n<!-- 136550663731792 -->\n<g id=\"node3\" class=\"node\">\n<title>136550663731792</title>\n<polygon fill=\"none\" stroke=\"black\" points=\"0,-0.5 0,-36.5 200,-36.5 200,-0.5 0,-0.5\"/>\n<text text-anchor=\"middle\" x=\"16.5\" y=\"-14.8\" font-family=\"Times,serif\" font-size=\"14.00\">w1</text>\n<polyline fill=\"none\" stroke=\"black\" points=\"33,-0.5 33,-36.5 \"/>\n<text text-anchor=\"middle\" x=\"75.5\" y=\"-14.8\" font-family=\"Times,serif\" font-size=\"14.00\">data &#45;3.0000</text>\n<polyline fill=\"none\" stroke=\"black\" points=\"118,-0.5 118,-36.5 \"/>\n<text text-anchor=\"middle\" x=\"159\" y=\"-14.8\" font-family=\"Times,serif\" font-size=\"14.00\">grad 1.0000</text>\n</g>\n<!-- 136550663731792&#45;&gt;136550663723472* -->\n<g id=\"edge11\" class=\"edge\">\n<title>136550663731792&#45;&gt;136550663723472*</title>\n<path fill=\"none\" stroke=\"black\" d=\"M169.28,-36.5C179.65,-39.61 190.16,-42.98 200,-46.5 210.28,-50.17 221.28,-54.74 231.11,-59.07\"/>\n<polygon fill=\"black\" stroke=\"black\" points=\"229.93,-62.37 240.48,-63.27 232.79,-55.99 229.93,-62.37\"/>\n</g>\n<!-- 136550663730320 -->\n<g id=\"node4\" class=\"node\">\n<title>136550663730320</title>\n<polygon fill=\"none\" stroke=\"black\" points=\"1071,-54.5 1071,-90.5 1256,-90.5 1256,-54.5 1071,-54.5\"/>\n<text text-anchor=\"middle\" x=\"1082.5\" y=\"-68.8\" font-family=\"Times,serif\" font-size=\"14.00\">n</text>\n<polyline fill=\"none\" stroke=\"black\" points=\"1094,-54.5 1094,-90.5 \"/>\n<text text-anchor=\"middle\" x=\"1134\" y=\"-68.8\" font-family=\"Times,serif\" font-size=\"14.00\">data 0.8814</text>\n<polyline fill=\"none\" stroke=\"black\" points=\"1174,-54.5 1174,-90.5 \"/>\n<text text-anchor=\"middle\" x=\"1215\" y=\"-68.8\" font-family=\"Times,serif\" font-size=\"14.00\">grad 0.5000</text>\n</g>\n<!-- 136550663724496tanh -->\n<g id=\"node13\" class=\"node\">\n<title>136550663724496tanh</title>\n<ellipse fill=\"none\" stroke=\"black\" cx=\"1319\" cy=\"-72.5\" rx=\"27\" ry=\"18\"/>\n<text text-anchor=\"middle\" x=\"1319\" y=\"-68.8\" font-family=\"Times,serif\" font-size=\"14.00\">tanh</text>\n</g>\n<!-- 136550663730320&#45;&gt;136550663724496tanh -->\n<g id=\"edge13\" class=\"edge\">\n<title>136550663730320&#45;&gt;136550663724496tanh</title>\n<path fill=\"none\" stroke=\"black\" d=\"M1256.01,-72.5C1265.01,-72.5 1273.74,-72.5 1281.66,-72.5\"/>\n<polygon fill=\"black\" stroke=\"black\" points=\"1281.91,-76 1291.91,-72.5 1281.91,-69 1281.91,-76\"/>\n</g>\n<!-- 136550663730320+ -->\n<g id=\"node5\" class=\"node\">\n<title>136550663730320+</title>\n<ellipse fill=\"none\" stroke=\"black\" cx=\"1008\" cy=\"-72.5\" rx=\"27\" ry=\"18\"/>\n<text text-anchor=\"middle\" x=\"1008\" y=\"-68.8\" font-family=\"Times,serif\" font-size=\"14.00\">+</text>\n</g>\n<!-- 136550663730320+&#45;&gt;136550663730320 -->\n<g id=\"edge1\" class=\"edge\">\n<title>136550663730320+&#45;&gt;136550663730320</title>\n<path fill=\"none\" stroke=\"black\" d=\"M1035.04,-72.5C1042.58,-72.5 1051.3,-72.5 1060.57,-72.5\"/>\n<polygon fill=\"black\" stroke=\"black\" points=\"1060.81,-76 1070.81,-72.5 1060.81,-69 1060.81,-76\"/>\n</g>\n<!-- 136550664878224 -->\n<g id=\"node6\" class=\"node\">\n<title>136550664878224</title>\n<polygon fill=\"none\" stroke=\"black\" points=\"328.5,-110.5 328.5,-146.5 543.5,-146.5 543.5,-110.5 328.5,-110.5\"/>\n<text text-anchor=\"middle\" x=\"355\" y=\"-124.8\" font-family=\"Times,serif\" font-size=\"14.00\">x2*w2</text>\n<polyline fill=\"none\" stroke=\"black\" points=\"381.5,-110.5 381.5,-146.5 \"/>\n<text text-anchor=\"middle\" x=\"421.5\" y=\"-124.8\" font-family=\"Times,serif\" font-size=\"14.00\">data 0.0000</text>\n<polyline fill=\"none\" stroke=\"black\" points=\"461.5,-110.5 461.5,-146.5 \"/>\n<text text-anchor=\"middle\" x=\"502.5\" y=\"-124.8\" font-family=\"Times,serif\" font-size=\"14.00\">grad 0.5000</text>\n</g>\n<!-- 136550663724816+ -->\n<g id=\"node9\" class=\"node\">\n<title>136550663724816+</title>\n<ellipse fill=\"none\" stroke=\"black\" cx=\"609\" cy=\"-100.5\" rx=\"27\" ry=\"18\"/>\n<text text-anchor=\"middle\" x=\"609\" y=\"-96.8\" font-family=\"Times,serif\" font-size=\"14.00\">+</text>\n</g>\n<!-- 136550664878224&#45;&gt;136550663724816+ -->\n<g id=\"edge14\" class=\"edge\">\n<title>136550664878224&#45;&gt;136550663724816+</title>\n<path fill=\"none\" stroke=\"black\" d=\"M543.84,-111.01C554.01,-109.34 563.76,-107.74 572.44,-106.32\"/>\n<polygon fill=\"black\" stroke=\"black\" points=\"573.17,-109.75 582.47,-104.68 572.04,-102.84 573.17,-109.75\"/>\n</g>\n<!-- 136550664878224*&#45;&gt;136550664878224 -->\n<g id=\"edge2\" class=\"edge\">\n<title>136550664878224*&#45;&gt;136550664878224</title>\n<path fill=\"none\" stroke=\"black\" d=\"M290.34,-128.5C298.51,-128.5 308.08,-128.5 318.36,-128.5\"/>\n<polygon fill=\"black\" stroke=\"black\" points=\"318.39,-132 328.39,-128.5 318.39,-125 318.39,-132\"/>\n</g>\n<!-- 136550663724816 -->\n<g id=\"node8\" class=\"node\">\n<title>136550663724816</title>\n<polygon fill=\"none\" stroke=\"black\" points=\"672,-82.5 672,-118.5 945,-118.5 945,-82.5 672,-82.5\"/>\n<text text-anchor=\"middle\" x=\"725\" y=\"-96.8\" font-family=\"Times,serif\" font-size=\"14.00\">x1*w1 + x2*w2</text>\n<polyline fill=\"none\" stroke=\"black\" points=\"778,-82.5 778,-118.5 \"/>\n<text text-anchor=\"middle\" x=\"820.5\" y=\"-96.8\" font-family=\"Times,serif\" font-size=\"14.00\">data &#45;6.0000</text>\n<polyline fill=\"none\" stroke=\"black\" points=\"863,-82.5 863,-118.5 \"/>\n<text text-anchor=\"middle\" x=\"904\" y=\"-96.8\" font-family=\"Times,serif\" font-size=\"14.00\">grad 0.5000</text>\n</g>\n<!-- 136550663724816&#45;&gt;136550663730320+ -->\n<g id=\"edge12\" class=\"edge\">\n<title>136550663724816&#45;&gt;136550663730320+</title>\n<path fill=\"none\" stroke=\"black\" d=\"M936.53,-82.49C949.09,-80.71 960.99,-79.02 971.3,-77.56\"/>\n<polygon fill=\"black\" stroke=\"black\" points=\"972.03,-80.99 981.44,-76.12 971.05,-74.06 972.03,-80.99\"/>\n</g>\n<!-- 136550663724816+&#45;&gt;136550663724816 -->\n<g id=\"edge3\" class=\"edge\">\n<title>136550663724816+&#45;&gt;136550663724816</title>\n<path fill=\"none\" stroke=\"black\" d=\"M636.23,-100.5C643.7,-100.5 652.41,-100.5 661.87,-100.5\"/>\n<polygon fill=\"black\" stroke=\"black\" points=\"661.98,-104 671.98,-100.5 661.98,-97 661.98,-104\"/>\n</g>\n<!-- 136550663723792 -->\n<g id=\"node10\" class=\"node\">\n<title>136550663723792</title>\n<polygon fill=\"none\" stroke=\"black\" points=\"716,-27.5 716,-63.5 901,-63.5 901,-27.5 716,-27.5\"/>\n<text text-anchor=\"middle\" x=\"727.5\" y=\"-41.8\" font-family=\"Times,serif\" font-size=\"14.00\">b</text>\n<polyline fill=\"none\" stroke=\"black\" points=\"739,-27.5 739,-63.5 \"/>\n<text text-anchor=\"middle\" x=\"779\" y=\"-41.8\" font-family=\"Times,serif\" font-size=\"14.00\">data 6.8814</text>\n<polyline fill=\"none\" stroke=\"black\" points=\"819,-27.5 819,-63.5 \"/>\n<text text-anchor=\"middle\" x=\"860\" y=\"-41.8\" font-family=\"Times,serif\" font-size=\"14.00\">grad 0.5000</text>\n</g>\n<!-- 136550663723792&#45;&gt;136550663730320+ -->\n<g id=\"edge6\" class=\"edge\">\n<title>136550663723792&#45;&gt;136550663730320+</title>\n<path fill=\"none\" stroke=\"black\" d=\"M901.02,-58.01C926,-61.43 951.59,-64.93 971.37,-67.63\"/>\n<polygon fill=\"black\" stroke=\"black\" points=\"971.05,-71.12 981.43,-69.01 972,-64.18 971.05,-71.12\"/>\n</g>\n<!-- 136550663724368 -->\n<g id=\"node11\" class=\"node\">\n<title>136550663724368</title>\n<polygon fill=\"none\" stroke=\"black\" points=\"2.5,-110.5 2.5,-146.5 197.5,-146.5 197.5,-110.5 2.5,-110.5\"/>\n<text text-anchor=\"middle\" x=\"19\" y=\"-124.8\" font-family=\"Times,serif\" font-size=\"14.00\">w2</text>\n<polyline fill=\"none\" stroke=\"black\" points=\"35.5,-110.5 35.5,-146.5 \"/>\n<text text-anchor=\"middle\" x=\"75.5\" y=\"-124.8\" font-family=\"Times,serif\" font-size=\"14.00\">data 1.0000</text>\n<polyline fill=\"none\" stroke=\"black\" points=\"115.5,-110.5 115.5,-146.5 \"/>\n<text text-anchor=\"middle\" x=\"156.5\" y=\"-124.8\" font-family=\"Times,serif\" font-size=\"14.00\">grad 0.0000</text>\n</g>\n<!-- 136550663724368&#45;&gt;136550664878224* -->\n<g id=\"edge9\" class=\"edge\">\n<title>136550663724368&#45;&gt;136550664878224*</title>\n<path fill=\"none\" stroke=\"black\" d=\"M197.91,-128.5C207.65,-128.5 217.05,-128.5 225.52,-128.5\"/>\n<polygon fill=\"black\" stroke=\"black\" points=\"225.7,-132 235.7,-128.5 225.7,-125 225.7,-132\"/>\n</g>\n<!-- 136550663724496 -->\n<g id=\"node12\" class=\"node\">\n<title>136550663724496</title>\n<polygon fill=\"none\" stroke=\"black\" points=\"1382,-54.5 1382,-90.5 1567,-90.5 1567,-54.5 1382,-54.5\"/>\n<text text-anchor=\"middle\" x=\"1393.5\" y=\"-68.8\" font-family=\"Times,serif\" font-size=\"14.00\">o</text>\n<polyline fill=\"none\" stroke=\"black\" points=\"1405,-54.5 1405,-90.5 \"/>\n<text text-anchor=\"middle\" x=\"1445\" y=\"-68.8\" font-family=\"Times,serif\" font-size=\"14.00\">data 0.7071</text>\n<polyline fill=\"none\" stroke=\"black\" points=\"1485,-54.5 1485,-90.5 \"/>\n<text text-anchor=\"middle\" x=\"1526\" y=\"-68.8\" font-family=\"Times,serif\" font-size=\"14.00\">grad 1.0000</text>\n</g>\n<!-- 136550663724496tanh&#45;&gt;136550663724496 -->\n<g id=\"edge4\" class=\"edge\">\n<title>136550663724496tanh&#45;&gt;136550663724496</title>\n<path fill=\"none\" stroke=\"black\" d=\"M1346.04,-72.5C1353.58,-72.5 1362.3,-72.5 1371.57,-72.5\"/>\n<polygon fill=\"black\" stroke=\"black\" points=\"1371.81,-76 1381.81,-72.5 1371.81,-69 1371.81,-76\"/>\n</g>\n<!-- 136550663723472 -->\n<g id=\"node14\" class=\"node\">\n<title>136550663723472</title>\n<polygon fill=\"none\" stroke=\"black\" points=\"326,-55.5 326,-91.5 546,-91.5 546,-55.5 326,-55.5\"/>\n<text text-anchor=\"middle\" x=\"352.5\" y=\"-69.8\" font-family=\"Times,serif\" font-size=\"14.00\">x1*w1</text>\n<polyline fill=\"none\" stroke=\"black\" points=\"379,-55.5 379,-91.5 \"/>\n<text text-anchor=\"middle\" x=\"421.5\" y=\"-69.8\" font-family=\"Times,serif\" font-size=\"14.00\">data &#45;6.0000</text>\n<polyline fill=\"none\" stroke=\"black\" points=\"464,-55.5 464,-91.5 \"/>\n<text text-anchor=\"middle\" x=\"505\" y=\"-69.8\" font-family=\"Times,serif\" font-size=\"14.00\">grad 0.5000</text>\n</g>\n<!-- 136550663723472&#45;&gt;136550663724816+ -->\n<g id=\"edge8\" class=\"edge\">\n<title>136550663723472&#45;&gt;136550663724816+</title>\n<path fill=\"none\" stroke=\"black\" d=\"M546.27,-90.75C555.64,-92.23 564.6,-93.65 572.65,-94.92\"/>\n<polygon fill=\"black\" stroke=\"black\" points=\"572.23,-98.4 582.65,-96.5 573.32,-91.48 572.23,-98.4\"/>\n</g>\n<!-- 136550663723472*&#45;&gt;136550663723472 -->\n<g id=\"edge5\" class=\"edge\">\n<title>136550663723472*&#45;&gt;136550663723472</title>\n<path fill=\"none\" stroke=\"black\" d=\"M290.34,-73.5C297.77,-73.5 306.37,-73.5 315.6,-73.5\"/>\n<polygon fill=\"black\" stroke=\"black\" points=\"315.84,-77 325.84,-73.5 315.84,-70 315.84,-77\"/>\n</g>\n</g>\n</svg>\n",
            "text/plain": [
              "<graphviz.graphs.Digraph at 0x7c312dd03150>"
            ]
          },
          "metadata": {},
          "execution_count": 5
        }
      ]
    },
    {
      "cell_type": "code",
      "source": [
        "# inputs x1,x2\n",
        "x1 = Value(2.0, label='x1')\n",
        "x2 = Value(0.0, label='x2')\n",
        "# weights w1,w2\n",
        "w1 = Value(-3.0, label='w1')\n",
        "w2 = Value(1.0, label='w2')\n",
        "# bias of the neuron\n",
        "b = Value(6.8813735870195432, label='b')\n",
        "# x1*w1 + x2*w2 + b\n",
        "x1w1 = x1*w1; x1w1.label = 'x1*w1'\n",
        "x2w2 = x2*w2; x2w2.label = 'x2*w2'\n",
        "x1w1x2w2 = x1w1 + x2w2; x1w1x2w2.label = 'x1*w1 + x2*w2'\n",
        "n = x1w1x2w2 + b; n.label = 'n'\n",
        "o1 = 2*n; o1.label = 'o1'\n",
        "o2 = o1.exp(); o2.label = 'o2'\n",
        "o = (o2-1) / (o2+1); o.label = 'o'"
      ],
      "metadata": {
        "id": "JCUSHLF95dqe"
      },
      "execution_count": null,
      "outputs": []
    },
    {
      "cell_type": "code",
      "source": [
        "# visualize the gradients and forward\n",
        "o.backward()\n",
        "draw_dot(o)"
      ],
      "metadata": {
        "id": "NCUt6qUz6YiO",
        "colab": {
          "base_uri": "https://localhost:8080/",
          "height": 360
        },
        "outputId": "3fc59ea0-2892-412f-ed77-f0b14d8fc3e7"
      },
      "execution_count": null,
      "outputs": [
        {
          "output_type": "execute_result",
          "data": {
            "image/svg+xml": "<?xml version=\"1.0\" encoding=\"UTF-8\" standalone=\"no\"?>\n<!DOCTYPE svg PUBLIC \"-//W3C//DTD SVG 1.1//EN\"\n \"http://www.w3.org/Graphics/SVG/1.1/DTD/svg11.dtd\">\n<!-- Generated by graphviz version 2.43.0 (0)\n -->\n<!-- Title: %3 Pages: 1 -->\n<svg width=\"2959pt\" height=\"239pt\"\n viewBox=\"0.00 0.00 2959.00 239.00\" xmlns=\"http://www.w3.org/2000/svg\" xmlns:xlink=\"http://www.w3.org/1999/xlink\">\n<g id=\"graph0\" class=\"graph\" transform=\"scale(1 1) rotate(0) translate(4 235)\">\n<title>%3</title>\n<polygon fill=\"white\" stroke=\"transparent\" points=\"-4,4 -4,-235 2955,-235 2955,4 -4,4\"/>\n<!-- 136550663851536 -->\n<g id=\"node1\" class=\"node\">\n<title>136550663851536</title>\n<polygon fill=\"none\" stroke=\"black\" points=\"4,-194.5 4,-230.5 196,-230.5 196,-194.5 4,-194.5\"/>\n<text text-anchor=\"middle\" x=\"19\" y=\"-208.8\" font-family=\"Times,serif\" font-size=\"14.00\">x2</text>\n<polyline fill=\"none\" stroke=\"black\" points=\"34,-194.5 34,-230.5 \"/>\n<text text-anchor=\"middle\" x=\"74\" y=\"-208.8\" font-family=\"Times,serif\" font-size=\"14.00\">data 0.0000</text>\n<polyline fill=\"none\" stroke=\"black\" points=\"114,-194.5 114,-230.5 \"/>\n<text text-anchor=\"middle\" x=\"155\" y=\"-208.8\" font-family=\"Times,serif\" font-size=\"14.00\">grad 0.5000</text>\n</g>\n<!-- 136550663850576* -->\n<g id=\"node6\" class=\"node\">\n<title>136550663850576*</title>\n<ellipse fill=\"none\" stroke=\"black\" cx=\"263\" cy=\"-157.5\" rx=\"27\" ry=\"18\"/>\n<text text-anchor=\"middle\" x=\"263\" y=\"-153.8\" font-family=\"Times,serif\" font-size=\"14.00\">*</text>\n</g>\n<!-- 136550663851536&#45;&gt;136550663850576* -->\n<g id=\"edge22\" class=\"edge\">\n<title>136550663851536&#45;&gt;136550663850576*</title>\n<path fill=\"none\" stroke=\"black\" d=\"M172.53,-194.44C181.84,-191.67 191.2,-188.67 200,-185.5 210.53,-181.71 221.75,-176.9 231.72,-172.33\"/>\n<polygon fill=\"black\" stroke=\"black\" points=\"233.25,-175.48 240.82,-168.07 230.28,-169.14 233.25,-175.48\"/>\n</g>\n<!-- 136550663849488 -->\n<g id=\"node2\" class=\"node\">\n<title>136550663849488</title>\n<polygon fill=\"none\" stroke=\"black\" points=\"1703,-110.5 1703,-146.5 1889,-146.5 1889,-110.5 1703,-110.5\"/>\n<text text-anchor=\"middle\" x=\"1713\" y=\"-124.8\" font-family=\"Times,serif\" font-size=\"14.00\"> </text>\n<polyline fill=\"none\" stroke=\"black\" points=\"1723,-110.5 1723,-146.5 \"/>\n<text text-anchor=\"middle\" x=\"1763\" y=\"-124.8\" font-family=\"Times,serif\" font-size=\"14.00\">data 1.0000</text>\n<polyline fill=\"none\" stroke=\"black\" points=\"1803,-110.5 1803,-146.5 \"/>\n<text text-anchor=\"middle\" x=\"1846\" y=\"-124.8\" font-family=\"Times,serif\" font-size=\"14.00\">grad &#45;0.1036</text>\n</g>\n<!-- 136550663853456+ -->\n<g id=\"node11\" class=\"node\">\n<title>136550663853456+</title>\n<ellipse fill=\"none\" stroke=\"black\" cx=\"1955\" cy=\"-100.5\" rx=\"27\" ry=\"18\"/>\n<text text-anchor=\"middle\" x=\"1955\" y=\"-96.8\" font-family=\"Times,serif\" font-size=\"14.00\">+</text>\n</g>\n<!-- 136550663849488&#45;&gt;136550663853456+ -->\n<g id=\"edge27\" class=\"edge\">\n<title>136550663849488&#45;&gt;136550663853456+</title>\n<path fill=\"none\" stroke=\"black\" d=\"M1889.24,-112.05C1899.6,-110.2 1909.63,-108.41 1918.58,-106.82\"/>\n<polygon fill=\"black\" stroke=\"black\" points=\"1919.32,-110.24 1928.55,-105.04 1918.09,-103.35 1919.32,-110.24\"/>\n</g>\n<!-- 136550663851088 -->\n<g id=\"node3\" class=\"node\">\n<title>136550663851088</title>\n<polygon fill=\"none\" stroke=\"black\" points=\"716,-56.5 716,-92.5 901,-92.5 901,-56.5 716,-56.5\"/>\n<text text-anchor=\"middle\" x=\"727.5\" y=\"-70.8\" font-family=\"Times,serif\" font-size=\"14.00\">b</text>\n<polyline fill=\"none\" stroke=\"black\" points=\"739,-56.5 739,-92.5 \"/>\n<text text-anchor=\"middle\" x=\"779\" y=\"-70.8\" font-family=\"Times,serif\" font-size=\"14.00\">data 6.8814</text>\n<polyline fill=\"none\" stroke=\"black\" points=\"819,-56.5 819,-92.5 \"/>\n<text text-anchor=\"middle\" x=\"860\" y=\"-70.8\" font-family=\"Times,serif\" font-size=\"14.00\">grad 0.5000</text>\n</g>\n<!-- 136550663850768+ -->\n<g id=\"node15\" class=\"node\">\n<title>136550663850768+</title>\n<ellipse fill=\"none\" stroke=\"black\" cx=\"1008\" cy=\"-101.5\" rx=\"27\" ry=\"18\"/>\n<text text-anchor=\"middle\" x=\"1008\" y=\"-97.8\" font-family=\"Times,serif\" font-size=\"14.00\">+</text>\n</g>\n<!-- 136550663851088&#45;&gt;136550663850768+ -->\n<g id=\"edge12\" class=\"edge\">\n<title>136550663851088&#45;&gt;136550663850768+</title>\n<path fill=\"none\" stroke=\"black\" d=\"M901.02,-87.01C926,-90.43 951.59,-93.93 971.37,-96.63\"/>\n<polygon fill=\"black\" stroke=\"black\" points=\"971.05,-100.12 981.43,-98.01 972,-93.18 971.05,-100.12\"/>\n</g>\n<!-- 136550663852624 -->\n<g id=\"node4\" class=\"node\">\n<title>136550663852624</title>\n<polygon fill=\"none\" stroke=\"black\" points=\"0,-84.5 0,-120.5 200,-120.5 200,-84.5 0,-84.5\"/>\n<text text-anchor=\"middle\" x=\"16.5\" y=\"-98.8\" font-family=\"Times,serif\" font-size=\"14.00\">w1</text>\n<polyline fill=\"none\" stroke=\"black\" points=\"33,-84.5 33,-120.5 \"/>\n<text text-anchor=\"middle\" x=\"75.5\" y=\"-98.8\" font-family=\"Times,serif\" font-size=\"14.00\">data &#45;3.0000</text>\n<polyline fill=\"none\" stroke=\"black\" points=\"118,-84.5 118,-120.5 \"/>\n<text text-anchor=\"middle\" x=\"159\" y=\"-98.8\" font-family=\"Times,serif\" font-size=\"14.00\">grad 1.0000</text>\n</g>\n<!-- 136550663852368* -->\n<g id=\"node22\" class=\"node\">\n<title>136550663852368*</title>\n<ellipse fill=\"none\" stroke=\"black\" cx=\"263\" cy=\"-102.5\" rx=\"27\" ry=\"18\"/>\n<text text-anchor=\"middle\" x=\"263\" y=\"-98.8\" font-family=\"Times,serif\" font-size=\"14.00\">*</text>\n</g>\n<!-- 136550663852624&#45;&gt;136550663852368* -->\n<g id=\"edge28\" class=\"edge\">\n<title>136550663852624&#45;&gt;136550663852368*</title>\n<path fill=\"none\" stroke=\"black\" d=\"M200.21,-102.5C209.2,-102.5 217.86,-102.5 225.7,-102.5\"/>\n<polygon fill=\"black\" stroke=\"black\" points=\"225.85,-106 235.85,-102.5 225.85,-99 225.85,-106\"/>\n</g>\n<!-- 136550663850576 -->\n<g id=\"node5\" class=\"node\">\n<title>136550663850576</title>\n<polygon fill=\"none\" stroke=\"black\" points=\"328.5,-139.5 328.5,-175.5 543.5,-175.5 543.5,-139.5 328.5,-139.5\"/>\n<text text-anchor=\"middle\" x=\"355\" y=\"-153.8\" font-family=\"Times,serif\" font-size=\"14.00\">x2*w2</text>\n<polyline fill=\"none\" stroke=\"black\" points=\"381.5,-139.5 381.5,-175.5 \"/>\n<text text-anchor=\"middle\" x=\"421.5\" y=\"-153.8\" font-family=\"Times,serif\" font-size=\"14.00\">data 0.0000</text>\n<polyline fill=\"none\" stroke=\"black\" points=\"461.5,-139.5 461.5,-175.5 \"/>\n<text text-anchor=\"middle\" x=\"502.5\" y=\"-153.8\" font-family=\"Times,serif\" font-size=\"14.00\">grad 0.5000</text>\n</g>\n<!-- 136550663849936+ -->\n<g id=\"node20\" class=\"node\">\n<title>136550663849936+</title>\n<ellipse fill=\"none\" stroke=\"black\" cx=\"609\" cy=\"-129.5\" rx=\"27\" ry=\"18\"/>\n<text text-anchor=\"middle\" x=\"609\" y=\"-125.8\" font-family=\"Times,serif\" font-size=\"14.00\">+</text>\n</g>\n<!-- 136550663850576&#45;&gt;136550663849936+ -->\n<g id=\"edge14\" class=\"edge\">\n<title>136550663850576&#45;&gt;136550663849936+</title>\n<path fill=\"none\" stroke=\"black\" d=\"M543.84,-140.01C554.01,-138.34 563.76,-136.74 572.44,-135.32\"/>\n<polygon fill=\"black\" stroke=\"black\" points=\"573.17,-138.75 582.47,-133.68 572.04,-131.84 573.17,-138.75\"/>\n</g>\n<!-- 136550663850576*&#45;&gt;136550663850576 -->\n<g id=\"edge1\" class=\"edge\">\n<title>136550663850576*&#45;&gt;136550663850576</title>\n<path fill=\"none\" stroke=\"black\" d=\"M290.34,-157.5C298.51,-157.5 308.08,-157.5 318.36,-157.5\"/>\n<polygon fill=\"black\" stroke=\"black\" points=\"318.39,-161 328.39,-157.5 318.39,-154 318.39,-161\"/>\n</g>\n<!-- 136550663891408 -->\n<g id=\"node7\" class=\"node\">\n<title>136550663891408</title>\n<polygon fill=\"none\" stroke=\"black\" points=\"2458,-80.5 2458,-116.5 2640,-116.5 2640,-80.5 2458,-80.5\"/>\n<text text-anchor=\"middle\" x=\"2468\" y=\"-94.8\" font-family=\"Times,serif\" font-size=\"14.00\"> </text>\n<polyline fill=\"none\" stroke=\"black\" points=\"2478,-80.5 2478,-116.5 \"/>\n<text text-anchor=\"middle\" x=\"2518\" y=\"-94.8\" font-family=\"Times,serif\" font-size=\"14.00\">data 0.1464</text>\n<polyline fill=\"none\" stroke=\"black\" points=\"2558,-80.5 2558,-116.5 \"/>\n<text text-anchor=\"middle\" x=\"2599\" y=\"-94.8\" font-family=\"Times,serif\" font-size=\"14.00\">grad 4.8284</text>\n</g>\n<!-- 136550663894800* -->\n<g id=\"node13\" class=\"node\">\n<title>136550663894800*</title>\n<ellipse fill=\"none\" stroke=\"black\" cx=\"2703\" cy=\"-72.5\" rx=\"27\" ry=\"18\"/>\n<text text-anchor=\"middle\" x=\"2703\" y=\"-68.8\" font-family=\"Times,serif\" font-size=\"14.00\">*</text>\n</g>\n<!-- 136550663891408&#45;&gt;136550663894800* -->\n<g id=\"edge17\" class=\"edge\">\n<title>136550663891408&#45;&gt;136550663894800*</title>\n<path fill=\"none\" stroke=\"black\" d=\"M2640.18,-83.08C2649.42,-81.49 2658.38,-79.96 2666.47,-78.58\"/>\n<polygon fill=\"black\" stroke=\"black\" points=\"2667.29,-81.99 2676.56,-76.85 2666.11,-75.09 2667.29,-81.99\"/>\n</g>\n<!-- 136550663891408pow(&#45;1) -->\n<g id=\"node8\" class=\"node\">\n<title>136550663891408pow(&#45;1)</title>\n<ellipse fill=\"none\" stroke=\"black\" cx=\"2331\" cy=\"-100.5\" rx=\"38.99\" ry=\"18\"/>\n<text text-anchor=\"middle\" x=\"2331\" y=\"-96.8\" font-family=\"Times,serif\" font-size=\"14.00\">pow(&#45;1)</text>\n</g>\n<!-- 136550663891408pow(&#45;1)&#45;&gt;136550663891408 -->\n<g id=\"edge2\" class=\"edge\">\n<title>136550663891408pow(&#45;1)&#45;&gt;136550663891408</title>\n<path fill=\"none\" stroke=\"black\" d=\"M2370.12,-100.15C2391.8,-99.95 2420.07,-99.68 2447.66,-99.43\"/>\n<polygon fill=\"black\" stroke=\"black\" points=\"2447.82,-102.93 2457.78,-99.34 2447.75,-95.93 2447.82,-102.93\"/>\n</g>\n<!-- 136550663859856 -->\n<g id=\"node9\" class=\"node\">\n<title>136550663859856</title>\n<polygon fill=\"none\" stroke=\"black\" points=\"2.5,-139.5 2.5,-175.5 197.5,-175.5 197.5,-139.5 2.5,-139.5\"/>\n<text text-anchor=\"middle\" x=\"19\" y=\"-153.8\" font-family=\"Times,serif\" font-size=\"14.00\">w2</text>\n<polyline fill=\"none\" stroke=\"black\" points=\"35.5,-139.5 35.5,-175.5 \"/>\n<text text-anchor=\"middle\" x=\"75.5\" y=\"-153.8\" font-family=\"Times,serif\" font-size=\"14.00\">data 1.0000</text>\n<polyline fill=\"none\" stroke=\"black\" points=\"115.5,-139.5 115.5,-175.5 \"/>\n<text text-anchor=\"middle\" x=\"156.5\" y=\"-153.8\" font-family=\"Times,serif\" font-size=\"14.00\">grad 0.0000</text>\n</g>\n<!-- 136550663859856&#45;&gt;136550663850576* -->\n<g id=\"edge19\" class=\"edge\">\n<title>136550663859856&#45;&gt;136550663850576*</title>\n<path fill=\"none\" stroke=\"black\" d=\"M197.91,-157.5C207.65,-157.5 217.05,-157.5 225.52,-157.5\"/>\n<polygon fill=\"black\" stroke=\"black\" points=\"225.7,-161 235.7,-157.5 225.7,-154 225.7,-161\"/>\n</g>\n<!-- 136550663853456 -->\n<g id=\"node10\" class=\"node\">\n<title>136550663853456</title>\n<polygon fill=\"none\" stroke=\"black\" points=\"2018,-82.5 2018,-118.5 2204,-118.5 2204,-82.5 2018,-82.5\"/>\n<text text-anchor=\"middle\" x=\"2028\" y=\"-96.8\" font-family=\"Times,serif\" font-size=\"14.00\"> </text>\n<polyline fill=\"none\" stroke=\"black\" points=\"2038,-82.5 2038,-118.5 \"/>\n<text text-anchor=\"middle\" x=\"2078\" y=\"-96.8\" font-family=\"Times,serif\" font-size=\"14.00\">data 6.8284</text>\n<polyline fill=\"none\" stroke=\"black\" points=\"2118,-82.5 2118,-118.5 \"/>\n<text text-anchor=\"middle\" x=\"2161\" y=\"-96.8\" font-family=\"Times,serif\" font-size=\"14.00\">grad &#45;0.1036</text>\n</g>\n<!-- 136550663853456&#45;&gt;136550663891408pow(&#45;1) -->\n<g id=\"edge23\" class=\"edge\">\n<title>136550663853456&#45;&gt;136550663891408pow(&#45;1)</title>\n<path fill=\"none\" stroke=\"black\" d=\"M2204.14,-100.5C2230.84,-100.5 2258.93,-100.5 2281.78,-100.5\"/>\n<polygon fill=\"black\" stroke=\"black\" points=\"2281.89,-104 2291.89,-100.5 2281.89,-97 2281.89,-104\"/>\n</g>\n<!-- 136550663853456+&#45;&gt;136550663853456 -->\n<g id=\"edge3\" class=\"edge\">\n<title>136550663853456+&#45;&gt;136550663853456</title>\n<path fill=\"none\" stroke=\"black\" d=\"M1982.12,-100.5C1989.62,-100.5 1998.29,-100.5 2007.5,-100.5\"/>\n<polygon fill=\"black\" stroke=\"black\" points=\"2007.69,-104 2017.69,-100.5 2007.69,-97 2007.69,-104\"/>\n</g>\n<!-- 136550663894800 -->\n<g id=\"node12\" class=\"node\">\n<title>136550663894800</title>\n<polygon fill=\"none\" stroke=\"black\" points=\"2766,-54.5 2766,-90.5 2951,-90.5 2951,-54.5 2766,-54.5\"/>\n<text text-anchor=\"middle\" x=\"2777.5\" y=\"-68.8\" font-family=\"Times,serif\" font-size=\"14.00\">o</text>\n<polyline fill=\"none\" stroke=\"black\" points=\"2789,-54.5 2789,-90.5 \"/>\n<text text-anchor=\"middle\" x=\"2829\" y=\"-68.8\" font-family=\"Times,serif\" font-size=\"14.00\">data 0.7071</text>\n<polyline fill=\"none\" stroke=\"black\" points=\"2869,-54.5 2869,-90.5 \"/>\n<text text-anchor=\"middle\" x=\"2910\" y=\"-68.8\" font-family=\"Times,serif\" font-size=\"14.00\">grad 1.0000</text>\n</g>\n<!-- 136550663894800*&#45;&gt;136550663894800 -->\n<g id=\"edge4\" class=\"edge\">\n<title>136550663894800*&#45;&gt;136550663894800</title>\n<path fill=\"none\" stroke=\"black\" d=\"M2730.04,-72.5C2737.58,-72.5 2746.3,-72.5 2755.57,-72.5\"/>\n<polygon fill=\"black\" stroke=\"black\" points=\"2755.81,-76 2765.81,-72.5 2755.81,-69 2755.81,-76\"/>\n</g>\n<!-- 136550663850768 -->\n<g id=\"node14\" class=\"node\">\n<title>136550663850768</title>\n<polygon fill=\"none\" stroke=\"black\" points=\"1071,-83.5 1071,-119.5 1256,-119.5 1256,-83.5 1071,-83.5\"/>\n<text text-anchor=\"middle\" x=\"1082.5\" y=\"-97.8\" font-family=\"Times,serif\" font-size=\"14.00\">n</text>\n<polyline fill=\"none\" stroke=\"black\" points=\"1094,-83.5 1094,-119.5 \"/>\n<text text-anchor=\"middle\" x=\"1134\" y=\"-97.8\" font-family=\"Times,serif\" font-size=\"14.00\">data 0.8814</text>\n<polyline fill=\"none\" stroke=\"black\" points=\"1174,-83.5 1174,-119.5 \"/>\n<text text-anchor=\"middle\" x=\"1215\" y=\"-97.8\" font-family=\"Times,serif\" font-size=\"14.00\">grad 0.5000</text>\n</g>\n<!-- 136550663851472* -->\n<g id=\"node28\" class=\"node\">\n<title>136550663851472*</title>\n<ellipse fill=\"none\" stroke=\"black\" cx=\"1319\" cy=\"-73.5\" rx=\"27\" ry=\"18\"/>\n<text text-anchor=\"middle\" x=\"1319\" y=\"-69.8\" font-family=\"Times,serif\" font-size=\"14.00\">*</text>\n</g>\n<!-- 136550663850768&#45;&gt;136550663851472* -->\n<g id=\"edge15\" class=\"edge\">\n<title>136550663850768&#45;&gt;136550663851472*</title>\n<path fill=\"none\" stroke=\"black\" d=\"M1256.01,-84.81C1265.49,-83.08 1274.66,-81.41 1282.9,-79.9\"/>\n<polygon fill=\"black\" stroke=\"black\" points=\"1283.6,-83.33 1292.81,-78.09 1282.35,-76.45 1283.6,-83.33\"/>\n</g>\n<!-- 136550663850768+&#45;&gt;136550663850768 -->\n<g id=\"edge5\" class=\"edge\">\n<title>136550663850768+&#45;&gt;136550663850768</title>\n<path fill=\"none\" stroke=\"black\" d=\"M1035.04,-101.5C1042.58,-101.5 1051.3,-101.5 1060.57,-101.5\"/>\n<polygon fill=\"black\" stroke=\"black\" points=\"1060.81,-105 1070.81,-101.5 1060.81,-98 1060.81,-105\"/>\n</g>\n<!-- 136550663851792 -->\n<g id=\"node16\" class=\"node\">\n<title>136550663851792</title>\n<polygon fill=\"none\" stroke=\"black\" points=\"2,-29.5 2,-65.5 198,-65.5 198,-29.5 2,-29.5\"/>\n<text text-anchor=\"middle\" x=\"17\" y=\"-43.8\" font-family=\"Times,serif\" font-size=\"14.00\">x1</text>\n<polyline fill=\"none\" stroke=\"black\" points=\"32,-29.5 32,-65.5 \"/>\n<text text-anchor=\"middle\" x=\"72\" y=\"-43.8\" font-family=\"Times,serif\" font-size=\"14.00\">data 2.0000</text>\n<polyline fill=\"none\" stroke=\"black\" points=\"112,-29.5 112,-65.5 \"/>\n<text text-anchor=\"middle\" x=\"155\" y=\"-43.8\" font-family=\"Times,serif\" font-size=\"14.00\">grad &#45;1.5000</text>\n</g>\n<!-- 136550663851792&#45;&gt;136550663852368* -->\n<g id=\"edge21\" class=\"edge\">\n<title>136550663851792&#45;&gt;136550663852368*</title>\n<path fill=\"none\" stroke=\"black\" d=\"M169.28,-65.5C179.65,-68.61 190.16,-71.98 200,-75.5 210.28,-79.17 221.28,-83.74 231.11,-88.07\"/>\n<polygon fill=\"black\" stroke=\"black\" points=\"229.93,-91.37 240.48,-92.27 232.79,-84.99 229.93,-91.37\"/>\n</g>\n<!-- 136550663848784 -->\n<g id=\"node17\" class=\"node\">\n<title>136550663848784</title>\n<polygon fill=\"none\" stroke=\"black\" points=\"1700,-55.5 1700,-91.5 1892,-91.5 1892,-55.5 1700,-55.5\"/>\n<text text-anchor=\"middle\" x=\"1715\" y=\"-69.8\" font-family=\"Times,serif\" font-size=\"14.00\">o2</text>\n<polyline fill=\"none\" stroke=\"black\" points=\"1730,-55.5 1730,-91.5 \"/>\n<text text-anchor=\"middle\" x=\"1770\" y=\"-69.8\" font-family=\"Times,serif\" font-size=\"14.00\">data 5.8284</text>\n<polyline fill=\"none\" stroke=\"black\" points=\"1810,-55.5 1810,-91.5 \"/>\n<text text-anchor=\"middle\" x=\"1851\" y=\"-69.8\" font-family=\"Times,serif\" font-size=\"14.00\">grad 0.0429</text>\n</g>\n<!-- 136550663848784&#45;&gt;136550663853456+ -->\n<g id=\"edge26\" class=\"edge\">\n<title>136550663848784&#45;&gt;136550663853456+</title>\n<path fill=\"none\" stroke=\"black\" d=\"M1892.4,-89.91C1901.69,-91.5 1910.64,-93.04 1918.71,-94.43\"/>\n<polygon fill=\"black\" stroke=\"black\" points=\"1918.32,-97.91 1928.76,-96.16 1919.5,-91.02 1918.32,-97.91\"/>\n</g>\n<!-- 136550663848848+ -->\n<g id=\"node25\" class=\"node\">\n<title>136550663848848+</title>\n<ellipse fill=\"none\" stroke=\"black\" cx=\"1955\" cy=\"-45.5\" rx=\"27\" ry=\"18\"/>\n<text text-anchor=\"middle\" x=\"1955\" y=\"-41.8\" font-family=\"Times,serif\" font-size=\"14.00\">+</text>\n</g>\n<!-- 136550663848784&#45;&gt;136550663848848+ -->\n<g id=\"edge18\" class=\"edge\">\n<title>136550663848784&#45;&gt;136550663848848+</title>\n<path fill=\"none\" stroke=\"black\" d=\"M1892.4,-56.49C1901.69,-54.83 1910.64,-53.23 1918.71,-51.79\"/>\n<polygon fill=\"black\" stroke=\"black\" points=\"1919.53,-55.2 1928.76,-50 1918.31,-48.31 1919.53,-55.2\"/>\n</g>\n<!-- 136550663848784exp -->\n<g id=\"node18\" class=\"node\">\n<title>136550663848784exp</title>\n<ellipse fill=\"none\" stroke=\"black\" cx=\"1637\" cy=\"-73.5\" rx=\"27\" ry=\"18\"/>\n<text text-anchor=\"middle\" x=\"1637\" y=\"-69.8\" font-family=\"Times,serif\" font-size=\"14.00\">exp</text>\n</g>\n<!-- 136550663848784exp&#45;&gt;136550663848784 -->\n<g id=\"edge6\" class=\"edge\">\n<title>136550663848784exp&#45;&gt;136550663848784</title>\n<path fill=\"none\" stroke=\"black\" d=\"M1664.28,-73.5C1671.78,-73.5 1680.44,-73.5 1689.67,-73.5\"/>\n<polygon fill=\"black\" stroke=\"black\" points=\"1689.87,-77 1699.87,-73.5 1689.87,-70 1689.87,-77\"/>\n</g>\n<!-- 136550663849936 -->\n<g id=\"node19\" class=\"node\">\n<title>136550663849936</title>\n<polygon fill=\"none\" stroke=\"black\" points=\"672,-111.5 672,-147.5 945,-147.5 945,-111.5 672,-111.5\"/>\n<text text-anchor=\"middle\" x=\"725\" y=\"-125.8\" font-family=\"Times,serif\" font-size=\"14.00\">x1*w1 + x2*w2</text>\n<polyline fill=\"none\" stroke=\"black\" points=\"778,-111.5 778,-147.5 \"/>\n<text text-anchor=\"middle\" x=\"820.5\" y=\"-125.8\" font-family=\"Times,serif\" font-size=\"14.00\">data &#45;6.0000</text>\n<polyline fill=\"none\" stroke=\"black\" points=\"863,-111.5 863,-147.5 \"/>\n<text text-anchor=\"middle\" x=\"904\" y=\"-125.8\" font-family=\"Times,serif\" font-size=\"14.00\">grad 0.5000</text>\n</g>\n<!-- 136550663849936&#45;&gt;136550663850768+ -->\n<g id=\"edge24\" class=\"edge\">\n<title>136550663849936&#45;&gt;136550663850768+</title>\n<path fill=\"none\" stroke=\"black\" d=\"M936.53,-111.49C949.09,-109.71 960.99,-108.02 971.3,-106.56\"/>\n<polygon fill=\"black\" stroke=\"black\" points=\"972.03,-109.99 981.44,-105.12 971.05,-103.06 972.03,-109.99\"/>\n</g>\n<!-- 136550663849936+&#45;&gt;136550663849936 -->\n<g id=\"edge7\" class=\"edge\">\n<title>136550663849936+&#45;&gt;136550663849936</title>\n<path fill=\"none\" stroke=\"black\" d=\"M636.23,-129.5C643.7,-129.5 652.41,-129.5 661.87,-129.5\"/>\n<polygon fill=\"black\" stroke=\"black\" points=\"661.98,-133 671.98,-129.5 661.98,-126 661.98,-133\"/>\n</g>\n<!-- 136550663852368 -->\n<g id=\"node21\" class=\"node\">\n<title>136550663852368</title>\n<polygon fill=\"none\" stroke=\"black\" points=\"326,-84.5 326,-120.5 546,-120.5 546,-84.5 326,-84.5\"/>\n<text text-anchor=\"middle\" x=\"352.5\" y=\"-98.8\" font-family=\"Times,serif\" font-size=\"14.00\">x1*w1</text>\n<polyline fill=\"none\" stroke=\"black\" points=\"379,-84.5 379,-120.5 \"/>\n<text text-anchor=\"middle\" x=\"421.5\" y=\"-98.8\" font-family=\"Times,serif\" font-size=\"14.00\">data &#45;6.0000</text>\n<polyline fill=\"none\" stroke=\"black\" points=\"464,-84.5 464,-120.5 \"/>\n<text text-anchor=\"middle\" x=\"505\" y=\"-98.8\" font-family=\"Times,serif\" font-size=\"14.00\">grad 0.5000</text>\n</g>\n<!-- 136550663852368&#45;&gt;136550663849936+ -->\n<g id=\"edge13\" class=\"edge\">\n<title>136550663852368&#45;&gt;136550663849936+</title>\n<path fill=\"none\" stroke=\"black\" d=\"M546.27,-119.75C555.64,-121.23 564.6,-122.65 572.65,-123.92\"/>\n<polygon fill=\"black\" stroke=\"black\" points=\"572.23,-127.4 582.65,-125.5 573.32,-120.48 572.23,-127.4\"/>\n</g>\n<!-- 136550663852368*&#45;&gt;136550663852368 -->\n<g id=\"edge8\" class=\"edge\">\n<title>136550663852368*&#45;&gt;136550663852368</title>\n<path fill=\"none\" stroke=\"black\" d=\"M290.34,-102.5C297.77,-102.5 306.37,-102.5 315.6,-102.5\"/>\n<polygon fill=\"black\" stroke=\"black\" points=\"315.84,-106 325.84,-102.5 315.84,-99 315.84,-106\"/>\n</g>\n<!-- 136550663849296 -->\n<g id=\"node23\" class=\"node\">\n<title>136550663849296</title>\n<polygon fill=\"none\" stroke=\"black\" points=\"1072.5,-28.5 1072.5,-64.5 1254.5,-64.5 1254.5,-28.5 1072.5,-28.5\"/>\n<text text-anchor=\"middle\" x=\"1082.5\" y=\"-42.8\" font-family=\"Times,serif\" font-size=\"14.00\"> </text>\n<polyline fill=\"none\" stroke=\"black\" points=\"1092.5,-28.5 1092.5,-64.5 \"/>\n<text text-anchor=\"middle\" x=\"1132.5\" y=\"-42.8\" font-family=\"Times,serif\" font-size=\"14.00\">data 2.0000</text>\n<polyline fill=\"none\" stroke=\"black\" points=\"1172.5,-28.5 1172.5,-64.5 \"/>\n<text text-anchor=\"middle\" x=\"1213.5\" y=\"-42.8\" font-family=\"Times,serif\" font-size=\"14.00\">grad 0.2203</text>\n</g>\n<!-- 136550663849296&#45;&gt;136550663851472* -->\n<g id=\"edge16\" class=\"edge\">\n<title>136550663849296&#45;&gt;136550663851472*</title>\n<path fill=\"none\" stroke=\"black\" d=\"M1254.68,-62.36C1264.61,-64.11 1274.23,-65.8 1282.84,-67.32\"/>\n<polygon fill=\"black\" stroke=\"black\" points=\"1282.36,-70.78 1292.81,-69.07 1283.57,-63.89 1282.36,-70.78\"/>\n</g>\n<!-- 136550663848848 -->\n<g id=\"node24\" class=\"node\">\n<title>136550663848848</title>\n<polygon fill=\"none\" stroke=\"black\" points=\"2240,-27.5 2240,-63.5 2422,-63.5 2422,-27.5 2240,-27.5\"/>\n<text text-anchor=\"middle\" x=\"2250\" y=\"-41.8\" font-family=\"Times,serif\" font-size=\"14.00\"> </text>\n<polyline fill=\"none\" stroke=\"black\" points=\"2260,-27.5 2260,-63.5 \"/>\n<text text-anchor=\"middle\" x=\"2300\" y=\"-41.8\" font-family=\"Times,serif\" font-size=\"14.00\">data 4.8284</text>\n<polyline fill=\"none\" stroke=\"black\" points=\"2340,-27.5 2340,-63.5 \"/>\n<text text-anchor=\"middle\" x=\"2381\" y=\"-41.8\" font-family=\"Times,serif\" font-size=\"14.00\">grad 0.1464</text>\n</g>\n<!-- 136550663848848&#45;&gt;136550663894800* -->\n<g id=\"edge25\" class=\"edge\">\n<title>136550663848848&#45;&gt;136550663894800*</title>\n<path fill=\"none\" stroke=\"black\" d=\"M2422.04,-52.07C2500.41,-57.79 2609.98,-65.79 2665.96,-69.87\"/>\n<polygon fill=\"black\" stroke=\"black\" points=\"2665.87,-73.37 2676.1,-70.61 2666.38,-66.39 2665.87,-73.37\"/>\n</g>\n<!-- 136550663848848+&#45;&gt;136550663848848 -->\n<g id=\"edge9\" class=\"edge\">\n<title>136550663848848+&#45;&gt;136550663848848</title>\n<path fill=\"none\" stroke=\"black\" d=\"M1982,-45.5C2032.46,-45.5 2146.06,-45.5 2229.81,-45.5\"/>\n<polygon fill=\"black\" stroke=\"black\" points=\"2229.87,-49 2239.87,-45.5 2229.87,-42 2229.87,-49\"/>\n</g>\n<!-- 136550663853008 -->\n<g id=\"node26\" class=\"node\">\n<title>136550663853008</title>\n<polygon fill=\"none\" stroke=\"black\" points=\"1702.5,-0.5 1702.5,-36.5 1889.5,-36.5 1889.5,-0.5 1702.5,-0.5\"/>\n<text text-anchor=\"middle\" x=\"1712.5\" y=\"-14.8\" font-family=\"Times,serif\" font-size=\"14.00\"> </text>\n<polyline fill=\"none\" stroke=\"black\" points=\"1722.5,-0.5 1722.5,-36.5 \"/>\n<text text-anchor=\"middle\" x=\"1765\" y=\"-14.8\" font-family=\"Times,serif\" font-size=\"14.00\">data &#45;1.0000</text>\n<polyline fill=\"none\" stroke=\"black\" points=\"1807.5,-0.5 1807.5,-36.5 \"/>\n<text text-anchor=\"middle\" x=\"1848.5\" y=\"-14.8\" font-family=\"Times,serif\" font-size=\"14.00\">grad 0.1464</text>\n</g>\n<!-- 136550663853008&#45;&gt;136550663848848+ -->\n<g id=\"edge11\" class=\"edge\">\n<title>136550663853008&#45;&gt;136550663848848+</title>\n<path fill=\"none\" stroke=\"black\" d=\"M1889.69,-34.44C1900,-36.21 1909.97,-37.93 1918.85,-39.46\"/>\n<polygon fill=\"black\" stroke=\"black\" points=\"1918.3,-42.91 1928.75,-41.16 1919.49,-36.01 1918.3,-42.91\"/>\n</g>\n<!-- 136550663851472 -->\n<g id=\"node27\" class=\"node\">\n<title>136550663851472</title>\n<polygon fill=\"none\" stroke=\"black\" points=\"1382,-55.5 1382,-91.5 1574,-91.5 1574,-55.5 1382,-55.5\"/>\n<text text-anchor=\"middle\" x=\"1397\" y=\"-69.8\" font-family=\"Times,serif\" font-size=\"14.00\">o1</text>\n<polyline fill=\"none\" stroke=\"black\" points=\"1412,-55.5 1412,-91.5 \"/>\n<text text-anchor=\"middle\" x=\"1452\" y=\"-69.8\" font-family=\"Times,serif\" font-size=\"14.00\">data 1.7627</text>\n<polyline fill=\"none\" stroke=\"black\" points=\"1492,-55.5 1492,-91.5 \"/>\n<text text-anchor=\"middle\" x=\"1533\" y=\"-69.8\" font-family=\"Times,serif\" font-size=\"14.00\">grad 0.2500</text>\n</g>\n<!-- 136550663851472&#45;&gt;136550663848784exp -->\n<g id=\"edge20\" class=\"edge\">\n<title>136550663851472&#45;&gt;136550663848784exp</title>\n<path fill=\"none\" stroke=\"black\" d=\"M1574.4,-73.5C1583.32,-73.5 1591.93,-73.5 1599.75,-73.5\"/>\n<polygon fill=\"black\" stroke=\"black\" points=\"1599.86,-77 1609.86,-73.5 1599.86,-70 1599.86,-77\"/>\n</g>\n<!-- 136550663851472*&#45;&gt;136550663851472 -->\n<g id=\"edge10\" class=\"edge\">\n<title>136550663851472*&#45;&gt;136550663851472</title>\n<path fill=\"none\" stroke=\"black\" d=\"M1346.28,-73.5C1353.78,-73.5 1362.44,-73.5 1371.67,-73.5\"/>\n<polygon fill=\"black\" stroke=\"black\" points=\"1371.87,-77 1381.87,-73.5 1371.87,-70 1371.87,-77\"/>\n</g>\n</g>\n</svg>\n",
            "text/plain": [
              "<graphviz.graphs.Digraph at 0x7c312d6ff950>"
            ]
          },
          "metadata": {},
          "execution_count": 7
        }
      ]
    },
    {
      "cell_type": "code",
      "source": [
        "import random\n",
        "class Neuron:\n",
        "\n",
        "  def __init__(self, nin):\n",
        "    self.w = [Value(random.uniform(-1,1)) for _ in range(nin)]\n",
        "    self.b = Value(random.uniform(-1,1))\n",
        "\n",
        "  def __call__(self, x):\n",
        "    # w * x + b\n",
        "    act = sum((wi*xi for wi, xi in zip(self.w, x)), self.b)\n",
        "    out = act.tanh()\n",
        "    return out\n",
        "\n",
        "  def parameters(self):\n",
        "    return self.w + [self.b]\n",
        "\n",
        "class Layer:\n",
        "\n",
        "  def __init__(self, nin, nout):\n",
        "    self.neurons = [Neuron(nin) for _ in range(nout)]\n",
        "\n",
        "  def __call__(self, x):\n",
        "    outs = [n(x) for n in self.neurons]\n",
        "    return outs[0] if len(outs) == 1 else outs\n",
        "\n",
        "  def parameters(self):\n",
        "    return [p for neuron in self.neurons for p in neuron.parameters()]\n",
        "\n",
        "class MLP:\n",
        "\n",
        "  def __init__(self, nin, nouts):\n",
        "    sz = [nin] + nouts\n",
        "    self.layers = [Layer(sz[i], sz[i+1]) for i in range(len(nouts))]\n",
        "\n",
        "  def __call__(self, x):\n",
        "    for layer in self.layers:\n",
        "      x = layer(x)\n",
        "    return x\n",
        "\n",
        "  def parameters(self):\n",
        "    return [p for layer in self.layers for p in layer.parameters()]"
      ],
      "metadata": {
        "id": "ZCfxcSxe7gqb"
      },
      "execution_count": null,
      "outputs": []
    },
    {
      "cell_type": "code",
      "source": [
        "xs = [\n",
        "  [2.0, 3.0, -1.0],\n",
        "  [3.0, -1.0, 0.5],\n",
        "  [0.5, 1.0, 1.0],\n",
        "  [1.0, 1.0, -1.0],\n",
        "]\n",
        "ys = [1.0, -1.0, -1.0, 1.0] # desired targets"
      ],
      "metadata": {
        "id": "kpXFx9kcBjHb"
      },
      "execution_count": null,
      "outputs": []
    },
    {
      "cell_type": "code",
      "source": [
        "# define a mlp and train a model\n",
        "mlp = MLP(3, [4, 4, 1])"
      ],
      "metadata": {
        "id": "fhyuuxXyCSl1"
      },
      "execution_count": null,
      "outputs": []
    },
    {
      "cell_type": "code",
      "source": [
        "for e in range(10):\n",
        "  params = mlp.parameters()\n",
        "\n",
        "  pred = [mlp(x) for x in xs]\n",
        "  loss = sum([(y_pred - y)**2 for y_pred, y in zip(pred, ys)])\n",
        "  for p_ in params:\n",
        "    p_.grad = 0\n",
        "\n",
        "  loss.backward()\n",
        "\n",
        "  for p_ in params:\n",
        "    p_.data += -0.05 * p_.grad\n",
        "\n",
        "  print(loss)\n"
      ],
      "metadata": {
        "id": "kkhSUUmgDzSI",
        "colab": {
          "base_uri": "https://localhost:8080/"
        },
        "outputId": "07f9dfdd-95f6-43ef-ca82-66214268ef71"
      },
      "execution_count": null,
      "outputs": [
        {
          "output_type": "stream",
          "name": "stdout",
          "text": [
            "Value(data=2.558465767321507)\n",
            "Value(data=0.8480369037127282)\n",
            "Value(data=0.3198868148540581)\n",
            "Value(data=0.19050247729033687)\n",
            "Value(data=0.1393644749685043)\n",
            "Value(data=0.10922863645469823)\n",
            "Value(data=0.08948445588867643)\n",
            "Value(data=0.07559980075679931)\n",
            "Value(data=0.0653291385870524)\n",
            "Value(data=0.05743817535413531)\n"
          ]
        }
      ]
    },
    {
      "cell_type": "code",
      "source": [
        "print([mlp(x) for x in xs])"
      ],
      "metadata": {
        "id": "LVIVLgttEHC9",
        "colab": {
          "base_uri": "https://localhost:8080/"
        },
        "outputId": "5631c6c6-acce-41a7-8113-4ba74879d1df"
      },
      "execution_count": null,
      "outputs": [
        {
          "output_type": "stream",
          "name": "stdout",
          "text": [
            "[Value(data=0.9098741091445225), Value(data=-0.9346934057706205), Value(data=-0.8588441359636376), Value(data=0.8625896807620549)]\n"
          ]
        }
      ]
    },
    {
      "cell_type": "markdown",
      "source": [],
      "metadata": {
        "id": "PWozF9SJOX_8"
      }
    },
    {
      "cell_type": "markdown",
      "source": [],
      "metadata": {
        "id": "RvcOxHUBOXi8"
      }
    }
  ]
}